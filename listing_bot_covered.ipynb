{
 "cells": [
  {
   "cell_type": "code",
   "execution_count": null,
   "metadata": {},
   "outputs": [],
   "source": [
    "import os, requests\n",
    "import pandas as pd\n",
    "from bs4 import BeautifulSoup\n",
    "from requests import get\n",
    "import pandas as pd\n",
    "import datetime\n",
    "import time\n",
    "import math\n",
    "import re\n",
    "from pycoingecko import CoinGeckoAPI\n",
    "from huobi import HuobiRestClient\n",
    "from discord_webhook import DiscordWebhook\n",
    "\n",
    "from datetime import datetime\n",
    "\n",
    "from uniswap import Uniswap\n",
    "from web3 import Web3, HTTPProvider\n",
    "\n",
    "from multiprocessing import Process\n",
    "from threading import Thread"
   ]
  },
  {
   "cell_type": "code",
   "execution_count": null,
   "metadata": {},
   "outputs": [],
   "source": [
    "#Defining environments for Discord Notification\n",
    "home = os.environ['HOME']\n",
    "java_home = os.environ.get('JAVA_HOME')\n",
    "\n",
    "url_wb = os.environ.get('DISCORD_WH')"
   ]
  },
  {
   "cell_type": "code",
   "execution_count": null,
   "metadata": {},
   "outputs": [],
   "source": [
    "#MetaMask Authentication for Uniswap interaction\n",
    "address = \"0xD....53\"          # or \"0x0000000000000000000000000000000000000000\", if you're not making transactions\n",
    "private_key = \"d...5\"  # or None, if you're not going to make transactions\n",
    "uniswap_wrapper = Uniswap(address, private_key, provider= 'https://mainnet.infura.io/v3/3...b', version=2)  # pass version=2 to use Uniswap v2\n",
    "eth = \"0x0000000000000000000000000000000000000000\"\n",
    "eth_balance = uniswap_wrapper.get_eth_balance()*0.80"
   ]
  },
  {
   "cell_type": "code",
   "execution_count": null,
   "metadata": {},
   "outputs": [],
   "source": []
  },
  {
   "cell_type": "code",
   "execution_count": null,
   "metadata": {},
   "outputs": [],
   "source": [
    "#Private Huobi Account Details (Providing access to the exchange)\n",
    "huobi_access_key = '0...3'\n",
    "huobi_secret_key = 'e...0'\n",
    "client = HuobiRestClient(access_key=huobi_access_key, secret_key=huobi_secret_key)\n",
    "huobi_account_id=client.accounts().data['data'][0]['id']"
   ]
  },
  {
   "cell_type": "code",
   "execution_count": null,
   "metadata": {},
   "outputs": [],
   "source": [
    "#Bag of exchanges integrated so far! Format: Coingecko\n",
    "#for reference only, we are not using this variable\n",
    "my_exchanges = ['Huobi Global', 'Uniswap (v2)']"
   ]
  },
  {
   "cell_type": "code",
   "execution_count": null,
   "metadata": {},
   "outputs": [],
   "source": [
    "#initialize APIs\n",
    "cg = CoinGeckoAPI()"
   ]
  },
  {
   "cell_type": "code",
   "execution_count": null,
   "metadata": {},
   "outputs": [],
   "source": [
    "#Update your database\n",
    "url = \"https://www.binance.com/en/support/announcement/c-48?navId=48#/48\"\n",
    "response = get(url)\n",
    "soup = BeautifulSoup(response.text, 'html.parser')\n",
    "news_list = soup.find_all(class_ = 'css-1neg3js')\n",
    "\n",
    "comprabale_news = []\n",
    "for news in news_list:\n",
    "    comprabale_news.append(news.text)\n",
    "    \n",
    "print('Your Past Data', comprabale_news)"
   ]
  },
  {
   "cell_type": "code",
   "execution_count": null,
   "metadata": {},
   "outputs": [],
   "source": [
    "#DEFINING HUOBI STOP LOSS FUNCTION\n",
    "def huobi_stop_loss_fun():\n",
    "    global huobi_price\n",
    "    global huobi_sl\n",
    "    global first_id_candle\n",
    "    global stop_loss_percentage\n",
    "    global huobi_spendable_balance_new\n",
    "    global huobi_pos_end\n",
    "    while huobi_price > huobi_sl:\n",
    "        try:\n",
    "            huobi_price = client.market_history_trade(symbol=symbol, size=1).data['data'][0]['data'][0]['price']\n",
    "        except:\n",
    "            print('Could not fetch the last market trade')\n",
    "            pass\n",
    "        print('the huobi price is:', huobi_price, 'while your huobi SL is:', huobi_sl , datetime.now().strftime(\"%d/%m/%Y %H:%M:%S\"))\n",
    "        time.sleep(1)\n",
    "        try:\n",
    "            if first_id_candle != client.market_history_kline(symbol=symbol, period='5min', size=1).data['data'][0]['id']:\n",
    "                time.sleep(1)\n",
    "                last_candle_open=client.market_history_kline(symbol=symbol, period='5min', size=2).data['data'][1]['open']\n",
    "                last_candle_close=client.market_history_kline(symbol=symbol, period='5min', size=2).data['data'][1]['close']\n",
    "                mid_price = (last_candle_close + last_candle_open)/2\n",
    "                first_id_candle = client.market_history_kline(symbol=symbol, period='5min', size=1).data['data'][0]['id']\n",
    "                new_huobi_sl = mid_price*stop_loss_percentage\n",
    "                print('A wild 5min candle appeared!!')\n",
    "                if huobi_sl < new_huobi_sl:\n",
    "                    huobi_sl = mid_price*stop_loss_percentage\n",
    "                    print('New Huobi SL defined')\n",
    "        except:\n",
    "            print('An Huobi API error occurred')\n",
    "            pass\n",
    "    try:\n",
    "        client.place(account_id=huobi_account_id, amount=huobi_spendable_balance_new, symbol=symbol, type='sell-market').data\n",
    "        print('Sold')\n",
    "    except:\n",
    "        print('Couldnt sell Huobi position')\n",
    "        pass\n",
    "    huobi_pos_end = client.market_history_trade(symbol=symbol, size=1).data['data'][0]['data'][0]['price']\n",
    "    print('the Huobi close prize was:', huobi_pos_end)"
   ]
  },
  {
   "cell_type": "code",
   "execution_count": null,
   "metadata": {},
   "outputs": [],
   "source": [
    "def uniswap_buy_action():\n",
    "    global eth\n",
    "    global target_address\n",
    "    global eth_balance\n",
    "    uniswap_wrapper.make_trade(Web3.toChecksumAddress(eth), Web3.toChecksumAddress(target_address), qty=int(eth_balance))\n",
    "    print('Thread 2 reached an end')"
   ]
  },
  {
   "cell_type": "code",
   "execution_count": null,
   "metadata": {},
   "outputs": [],
   "source": []
  },
  {
   "cell_type": "code",
   "execution_count": null,
   "metadata": {},
   "outputs": [],
   "source": []
  },
  {
   "cell_type": "code",
   "execution_count": null,
   "metadata": {},
   "outputs": [],
   "source": [
    "#BINANCE EYE (CHECK FOR NEWS UPDATE EVERY 0.1 SECONDS)\n",
    "i=0\n",
    "stop_loss_percentage = 0.94\n",
    "#Checks for the next 10000000 news and acts uppon them\n",
    "while i<10000000:\n",
    "    try:\n",
    "        while comprabale_news[0] == BeautifulSoup(get(url).text, 'html.parser').find_all(class_ = 'css-1neg3js')[0].text:\n",
    "            time.sleep(0.1)\n",
    "            print('No new listings', datetime.now().strftime(\"%d/%m/%Y %H:%M:%S\"))\n",
    "            \n",
    "        #Parsing the recent new to see if it's interesting\n",
    "        print('Hey Something is different')\n",
    "        print('CP1 - Recognized a brand new Announcement')\n",
    "        recent_new = BeautifulSoup(get(url).text, 'html.parser').find_all(class_ = 'css-1neg3js')[0].text\n",
    "        comprabale_news[0]=recent_new\n",
    "        print(recent_new)\n",
    "        #recent_new = 'Binance Will List Celo (CELO)'\n",
    "        \n",
    "        if ('List ' in recent_new) or ('Lists ' in recent_new):\n",
    "            print('CP2 - Recognized the word List or Lists inside the recent_new')\n",
    "            print('filtering the name & ticker...')\n",
    "            ticker=re.findall('\\((\\d*\\w*\\d*\\w*)\\)', recent_new)[0].lower()\n",
    "            name = re.findall('Lists? [\\w\\d]* ?[\\w\\d]* ?[\\w\\d]*', recent_new)[0].split()[1:]\n",
    "            first_name = name[0]\n",
    "            if len(name) == 1:\n",
    "                name = name[0].lower()\n",
    "            elif len(name) > 1:\n",
    "                name = '-'.join(name).lower()\n",
    "            print(name, ticker, 'is our listing today')\n",
    "            print('Gathering Markets via Coingecko API...')\n",
    "            df=pd.DataFrame(cg.get_coins_list())\n",
    "            df = df[df['symbol']==ticker.lower()].reset_index(drop=True)\n",
    "            if len(df)==0:\n",
    "                raise SystemExit(\"Could not find Coin on COINGECKO\")\n",
    "            elif len(df) > 1:\n",
    "                for value in df['name']:\n",
    "                    if first_name in value:\n",
    "                        unique_id = df[df['name']==value]['id'].reset_index(drop=True)[0]\n",
    "            elif len(df)==1:\n",
    "                unique_id = df['id'][0]\n",
    "            print('CP3')\n",
    "            exchanges_available = []\n",
    "            for data in cg.get_coin_by_id(id=unique_id)['tickers']:\n",
    "                exchanges_available.append((data['market']['name'], data['target']))\n",
    "            print('CP4')\n",
    "            df_pairs = pd.DataFrame(exchanges_available, columns=['Exchange','Pair'])\n",
    "            print('CP5')\n",
    "            ###EXCHANGE MATCHING\n",
    "            try:\n",
    "                target_address = cg.get_coin_by_id(id=unique_id)['contract_address']\n",
    "            except:\n",
    "                print(\"It's not an ERC-20 token\")\n",
    "            print('CP6 - Gathered all data required for start trading')\n",
    "            if 'Uniswap (v2)' in list(df_pairs['Exchange']):\n",
    "                try:\n",
    "                    #uniswap_buy_action()\n",
    "                    #t2 = Thread(target = uniswap_buy_action)\n",
    "                    #t2.setDaemon(True)\n",
    "                    #t2.start()\n",
    "                    \n",
    "                    # This transaction needs to custmize gas fee according to ETH network usage\n",
    "                    \n",
    "                    print('Uni Thread ended')\n",
    "                except:\n",
    "                    print('Something went wrong trying to buy at Uniswap')\n",
    "                    pass\n",
    "            else:\n",
    "                print(\"This Coin isn't tradable on Uniswap\")\n",
    "            print('CP7')\n",
    "            if 'Huobi Global' in list(df_pairs['Exchange']):\n",
    "                available_pairs = list(df_pairs[df_pairs['Exchange']=='Huobi Global']['Pair'])\n",
    "                if 'BTC' in available_pairs:\n",
    "                    try:\n",
    "                        symbol = ticker+'btc'\n",
    "                        print('We already have BTC')\n",
    "                        balance=client.balance(account_id=huobi_account_id).data['data']['list']\n",
    "                        df=pd.DataFrame.from_dict(balance)\n",
    "                        huobi_spendable_balance=str(round(float(df[(df['currency']=='btc')&(df['type']=='trade')]['balance'].reset_index(drop=True)[0])*0.99, 5))[:-1]\n",
    "                        #Market Taker Buy order\n",
    "                        print('Time of huobi buy :', datetime.now().strftime(\"%d/%m/%Y %H:%M:%S\"))\n",
    "                        client.place(account_id=huobi_account_id, amount=huobi_spendable_balance, symbol=symbol, type='buy-market').data\n",
    "                        huobi_price=client.market_history_trade(symbol=symbol, size=1).data['data'][0]['data'][0]['price']\n",
    "                        first_id_candle = client.market_history_kline(symbol=symbol, period='5min', size=1).data['data'][0]['id']\n",
    "                        #Check Balance for the new crypto that was just bought\n",
    "                        balance=client.balance(account_id=huobi_account_id).data['data']['list']\n",
    "                        df=pd.DataFrame.from_dict(balance)\n",
    "                        huobi_spendable_balance_new=str(round(float(df[(df['currency']==ticker)&(df['type']=='trade')]['balance'].reset_index(drop=True)[0])*0.99, 5))[:-1]\n",
    "                        #STOP LOSS IMPLEMENTED\n",
    "                        huobi_sl = huobi_price*stop_loss_percentage\n",
    "                        print('the open price was', huobi_price)\n",
    "                        #huobi_stop_loss_fun()\n",
    "                        t1 = Thread(target = huobi_stop_loss_fun)\n",
    "                        t1.setDaemon(True)\n",
    "                        t1.start()\n",
    "                    except:\n",
    "                        print('I cant trade for some reason at Huobi')\n",
    "                        pass\n",
    "                elif 'ETH' in available_pairs:\n",
    "                    try:\n",
    "                        symbol = ticker+'eth'\n",
    "                        print('Converting BTC to ETH')\n",
    "                        client.place(account_id=huobi_account_id, amount=huobi_spendable_balance, symbol='ethbtc', type='buy-market').data\n",
    "                        balance=client.balance(account_id=huobi_account_id).data['data']['list']\n",
    "                        df=pd.DataFrame.from_dict(balance)\n",
    "                        huobi_spendable_balance=str(round(float(df[(df['currency']=='eth')&(df['type']=='trade')]['balance'].reset_index(drop=True)[0])*0.99, 5))[:-1]\n",
    "                        #Market Taker Buy order\n",
    "                        print('Time of huobi buy :', datetime.now().strftime(\"%d/%m/%Y %H:%M:%S\"))\n",
    "                        client.place(account_id=huobi_account_id, amount=huobi_spendable_balance, symbol=symbol, type='buy-market').data\n",
    "                        huobi_price=client.market_history_trade(symbol=symbol, size=1).data['data'][0]['data'][0]['price']\n",
    "                        first_id_candle = client.market_history_kline(symbol=symbol, period='5min', size=1).data['data'][0]['id']\n",
    "                        #Check Balance for the new crypto that was just bought\n",
    "                        balance=client.balance(account_id=huobi_account_id).data['data']['list']\n",
    "                        df=pd.DataFrame.from_dict(balance)\n",
    "                        huobi_spendable_balance_new=str(round(float(df[(df['currency']==ticker)&(df['type']=='trade')]['balance'].reset_index(drop=True)[0])*0.99, 5))[:-1]\n",
    "                        #STOP LOSS IMPLEMENTED\n",
    "                        huobi_sl = huobi_price*stop_loss_percentage\n",
    "                        print('the open price was', huobi_price)\n",
    "                        #huobi_stop_loss_fun()\n",
    "                        t1 = Thread(target = huobi_stop_loss_fun)\n",
    "                        t1.setDaemon(True)\n",
    "                        t1.start()\n",
    "                    except:\n",
    "                        print('I cant trade for some reason at Huobi')\n",
    "                        pass\n",
    "                elif 'USDT' in available_pairs:\n",
    "                    try:\n",
    "                        symbol = ticker+'usdt'\n",
    "                        print('Converting BTC to USDT')\n",
    "                        client.place(account_id=huobi_account_id, amount=huobi_spendable_balance, symbol='btcusdt', type='sell-market').data\n",
    "                        balance=client.balance(account_id=huobi_account_id).data['data']['list']\n",
    "                        df=pd.DataFrame.from_dict(balance)\n",
    "                        huobi_spendable_balance=str(round(float(df[(df['currency']=='usdt')&(df['type']=='trade')]['balance'].reset_index(drop=True)[0])*0.99, 5))[:-1]\n",
    "                        #Market Taker Buy order\n",
    "                        print('Time of huobi buy :', datetime.now().strftime(\"%d/%m/%Y %H:%M:%S\"))\n",
    "                        client.place(account_id=huobi_account_id, amount=huobi_spendable_balance, symbol=symbol, type='buy-market').data\n",
    "                        huobi_price=client.market_history_trade(symbol=symbol, size=1).data['data'][0]['data'][0]['price']\n",
    "                        first_id_candle = client.market_history_kline(symbol=symbol, period='5min', size=1).data['data'][0]['id']\n",
    "                        #Check Balance for the new crypto that was just bought\n",
    "                        balance=client.balance(account_id=huobi_account_id).data['data']['list']\n",
    "                        df=pd.DataFrame.from_dict(balance)\n",
    "                        huobi_spendable_balance_new=str(round(float(df[(df['currency']==ticker)&(df['type']=='trade')]['balance'].reset_index(drop=True)[0])*0.99, 5))[:-1]\n",
    "                        #STOP LOSS IMPLEMENTED\n",
    "                        huobi_sl = huobi_price*stop_loss_percentage\n",
    "                        print('the open price was', huobi_price)\n",
    "                        #huobi_stop_loss_fun()\n",
    "                        t1 = Thread(target = huobi_stop_loss_fun)\n",
    "                        t1.setDaemon(True)\n",
    "                        t1.start()\n",
    "                    except:\n",
    "                        print('I cant trade for some reason at Huobi')\n",
    "                        pass\n",
    "            else:\n",
    "                print(\"This Coin isn't tradable on Huobi\")\n",
    "            i+=1\n",
    "            print('CP8')\n",
    "            #if 'KuCoin' in list(df_pairs['Exchange']):\n",
    "            #####\n",
    "            \n",
    "    ###### WRITE TO CSV\n",
    "        try:\n",
    "            print('CP9')\n",
    "            if ('List ' in recent_new) or ('Lists ' in recent_new):\n",
    "                article_link = 'https://www.binance.com' + BeautifulSoup(get(url).text, 'html.parser').find_all(class_ = 'css-1neg3js')[0].get('href')\n",
    "                webhook = DiscordWebhook(url=url_wb, content=recent_new +'\\n'+ article_link)\n",
    "                response = webhook.execute()\n",
    "                print('Notified on Discord')\n",
    "                \n",
    "            # Open old database file\n",
    "                print('CP10')\n",
    "                path = \"C...........xlsx\"\n",
    "                df_database = pd.read_excel(path)\n",
    "                order_filled = 0\n",
    "                uni_status = 0\n",
    "                huobi_status = 0\n",
    "                price = cg.get_price(ids=unique_id, vs_currencies='usd')[unique_id]['usd']\n",
    "                new_data = [datetime.now().strftime(\"%d/%m/%Y\"), datetime.now().strftime(\"%H:%M:%S\"), recent_new, article_link, ticker, name, price, \", \".join(set(list(df_pairs['Exchange']))), order_filled, uni_status, huobi_status, \"Type Description\", \"Type ROI\" ]\n",
    "                cols = ['Day','Time', 'Title', 'URL', 'Ticker', 'Name', 'Price', 'Exchanges', 'Order Fulfillment', 'Uni_Status', 'Huobi_Status', 'Description', 'ROI']\n",
    "                df_database = df_database.append(pd.Series(new_data, index=df_database.columns), ignore_index=True)\n",
    "                df_database.to_excel(path, index = False)\n",
    "                print('New listing send to CSV')\n",
    "            else:\n",
    "                print('Not an Interesting new')\n",
    "        except:\n",
    "            print('Couldnt not write on DB')\n",
    "        #if ('List ' in recent_new) or ('Lists ' in recent_new):\n",
    "        #    raise SystemExit(\"Our trading is done\")\n",
    "    except:\n",
    "        print(\"Couldn't fetch Binance News Or Coingecko tickers! PLEASE HELP\")\n",
    "        i+=1\n",
    "        pass\n",
    "        \n",
    "    print('Reached the END of the while loop:', i)\n",
    "    \n",
    "print('Reached the END of script')\n",
    "\n"
   ]
  },
  {
   "cell_type": "code",
   "execution_count": null,
   "metadata": {},
   "outputs": [],
   "source": []
  },
  {
   "cell_type": "code",
   "execution_count": null,
   "metadata": {},
   "outputs": [],
   "source": []
  },
  {
   "cell_type": "code",
   "execution_count": null,
   "metadata": {},
   "outputs": [],
   "source": []
  },
  {
   "cell_type": "code",
   "execution_count": null,
   "metadata": {},
   "outputs": [],
   "source": []
  },
  {
   "cell_type": "code",
   "execution_count": null,
   "metadata": {},
   "outputs": [],
   "source": []
  },
  {
   "cell_type": "code",
   "execution_count": null,
   "metadata": {},
   "outputs": [],
   "source": []
  },
  {
   "cell_type": "code",
   "execution_count": null,
   "metadata": {},
   "outputs": [],
   "source": []
  },
  {
   "cell_type": "code",
   "execution_count": null,
   "metadata": {},
   "outputs": [],
   "source": []
  },
  {
   "cell_type": "code",
   "execution_count": null,
   "metadata": {},
   "outputs": [],
   "source": []
  },
  {
   "cell_type": "code",
   "execution_count": null,
   "metadata": {},
   "outputs": [],
   "source": []
  },
  {
   "cell_type": "code",
   "execution_count": null,
   "metadata": {},
   "outputs": [],
   "source": []
  },
  {
   "cell_type": "code",
   "execution_count": null,
   "metadata": {},
   "outputs": [],
   "source": []
  },
  {
   "cell_type": "code",
   "execution_count": null,
   "metadata": {},
   "outputs": [],
   "source": []
  },
  {
   "cell_type": "code",
   "execution_count": null,
   "metadata": {},
   "outputs": [],
   "source": []
  },
  {
   "cell_type": "code",
   "execution_count": null,
   "metadata": {},
   "outputs": [],
   "source": []
  },
  {
   "cell_type": "code",
   "execution_count": null,
   "metadata": {},
   "outputs": [],
   "source": []
  },
  {
   "cell_type": "code",
   "execution_count": null,
   "metadata": {},
   "outputs": [],
   "source": []
  },
  {
   "cell_type": "code",
   "execution_count": null,
   "metadata": {},
   "outputs": [],
   "source": []
  },
  {
   "cell_type": "code",
   "execution_count": null,
   "metadata": {},
   "outputs": [],
   "source": []
  },
  {
   "cell_type": "code",
   "execution_count": null,
   "metadata": {},
   "outputs": [],
   "source": []
  },
  {
   "cell_type": "code",
   "execution_count": null,
   "metadata": {},
   "outputs": [],
   "source": []
  },
  {
   "cell_type": "code",
   "execution_count": null,
   "metadata": {},
   "outputs": [],
   "source": []
  },
  {
   "cell_type": "code",
   "execution_count": null,
   "metadata": {},
   "outputs": [],
   "source": []
  },
  {
   "cell_type": "code",
   "execution_count": null,
   "metadata": {},
   "outputs": [],
   "source": []
  },
  {
   "cell_type": "code",
   "execution_count": null,
   "metadata": {},
   "outputs": [],
   "source": []
  },
  {
   "cell_type": "code",
   "execution_count": null,
   "metadata": {},
   "outputs": [],
   "source": []
  },
  {
   "cell_type": "code",
   "execution_count": null,
   "metadata": {},
   "outputs": [],
   "source": []
  },
  {
   "cell_type": "code",
   "execution_count": null,
   "metadata": {},
   "outputs": [],
   "source": [
    "\n",
    "    "
   ]
  },
  {
   "cell_type": "code",
   "execution_count": null,
   "metadata": {},
   "outputs": [],
   "source": []
  },
  {
   "cell_type": "code",
   "execution_count": null,
   "metadata": {},
   "outputs": [],
   "source": []
  },
  {
   "cell_type": "code",
   "execution_count": null,
   "metadata": {},
   "outputs": [],
   "source": []
  },
  {
   "cell_type": "code",
   "execution_count": null,
   "metadata": {},
   "outputs": [],
   "source": []
  },
  {
   "cell_type": "code",
   "execution_count": null,
   "metadata": {},
   "outputs": [],
   "source": []
  },
  {
   "cell_type": "code",
   "execution_count": null,
   "metadata": {},
   "outputs": [],
   "source": []
  },
  {
   "cell_type": "code",
   "execution_count": null,
   "metadata": {},
   "outputs": [],
   "source": []
  },
  {
   "cell_type": "code",
   "execution_count": null,
   "metadata": {},
   "outputs": [],
   "source": []
  },
  {
   "cell_type": "code",
   "execution_count": null,
   "metadata": {},
   "outputs": [],
   "source": []
  },
  {
   "cell_type": "code",
   "execution_count": null,
   "metadata": {},
   "outputs": [],
   "source": []
  },
  {
   "cell_type": "code",
   "execution_count": null,
   "metadata": {},
   "outputs": [],
   "source": []
  },
  {
   "cell_type": "code",
   "execution_count": null,
   "metadata": {},
   "outputs": [],
   "source": []
  },
  {
   "cell_type": "code",
   "execution_count": null,
   "metadata": {},
   "outputs": [],
   "source": []
  },
  {
   "cell_type": "code",
   "execution_count": null,
   "metadata": {},
   "outputs": [],
   "source": []
  },
  {
   "cell_type": "code",
   "execution_count": null,
   "metadata": {},
   "outputs": [],
   "source": []
  },
  {
   "cell_type": "code",
   "execution_count": null,
   "metadata": {},
   "outputs": [],
   "source": []
  },
  {
   "cell_type": "code",
   "execution_count": null,
   "metadata": {},
   "outputs": [],
   "source": []
  },
  {
   "cell_type": "code",
   "execution_count": null,
   "metadata": {},
   "outputs": [],
   "source": []
  },
  {
   "cell_type": "code",
   "execution_count": null,
   "metadata": {},
   "outputs": [],
   "source": []
  },
  {
   "cell_type": "code",
   "execution_count": null,
   "metadata": {},
   "outputs": [],
   "source": []
  },
  {
   "cell_type": "code",
   "execution_count": null,
   "metadata": {},
   "outputs": [],
   "source": []
  },
  {
   "cell_type": "code",
   "execution_count": null,
   "metadata": {},
   "outputs": [],
   "source": []
  },
  {
   "cell_type": "code",
   "execution_count": null,
   "metadata": {},
   "outputs": [],
   "source": []
  },
  {
   "cell_type": "code",
   "execution_count": null,
   "metadata": {},
   "outputs": [],
   "source": []
  },
  {
   "cell_type": "code",
   "execution_count": null,
   "metadata": {},
   "outputs": [],
   "source": []
  },
  {
   "cell_type": "code",
   "execution_count": null,
   "metadata": {},
   "outputs": [],
   "source": []
  },
  {
   "cell_type": "code",
   "execution_count": null,
   "metadata": {},
   "outputs": [],
   "source": []
  },
  {
   "cell_type": "code",
   "execution_count": null,
   "metadata": {},
   "outputs": [],
   "source": []
  },
  {
   "cell_type": "code",
   "execution_count": null,
   "metadata": {},
   "outputs": [],
   "source": []
  },
  {
   "cell_type": "code",
   "execution_count": null,
   "metadata": {},
   "outputs": [],
   "source": []
  },
  {
   "cell_type": "code",
   "execution_count": null,
   "metadata": {},
   "outputs": [],
   "source": []
  },
  {
   "cell_type": "code",
   "execution_count": null,
   "metadata": {},
   "outputs": [],
   "source": []
  },
  {
   "cell_type": "code",
   "execution_count": null,
   "metadata": {},
   "outputs": [],
   "source": []
  },
  {
   "cell_type": "code",
   "execution_count": null,
   "metadata": {},
   "outputs": [],
   "source": []
  },
  {
   "cell_type": "code",
   "execution_count": null,
   "metadata": {},
   "outputs": [],
   "source": []
  },
  {
   "cell_type": "code",
   "execution_count": null,
   "metadata": {},
   "outputs": [],
   "source": []
  },
  {
   "cell_type": "code",
   "execution_count": null,
   "metadata": {},
   "outputs": [],
   "source": []
  },
  {
   "cell_type": "code",
   "execution_count": null,
   "metadata": {},
   "outputs": [],
   "source": []
  },
  {
   "cell_type": "code",
   "execution_count": null,
   "metadata": {},
   "outputs": [],
   "source": []
  },
  {
   "cell_type": "code",
   "execution_count": null,
   "metadata": {},
   "outputs": [],
   "source": []
  },
  {
   "cell_type": "code",
   "execution_count": null,
   "metadata": {},
   "outputs": [],
   "source": []
  },
  {
   "cell_type": "code",
   "execution_count": null,
   "metadata": {},
   "outputs": [],
   "source": []
  },
  {
   "cell_type": "code",
   "execution_count": null,
   "metadata": {},
   "outputs": [],
   "source": []
  },
  {
   "cell_type": "code",
   "execution_count": null,
   "metadata": {},
   "outputs": [],
   "source": []
  },
  {
   "cell_type": "code",
   "execution_count": null,
   "metadata": {},
   "outputs": [],
   "source": []
  },
  {
   "cell_type": "code",
   "execution_count": null,
   "metadata": {},
   "outputs": [],
   "source": []
  },
  {
   "cell_type": "code",
   "execution_count": null,
   "metadata": {},
   "outputs": [],
   "source": []
  },
  {
   "cell_type": "code",
   "execution_count": null,
   "metadata": {},
   "outputs": [],
   "source": []
  },
  {
   "cell_type": "code",
   "execution_count": null,
   "metadata": {},
   "outputs": [],
   "source": []
  },
  {
   "cell_type": "code",
   "execution_count": null,
   "metadata": {},
   "outputs": [],
   "source": []
  },
  {
   "cell_type": "code",
   "execution_count": null,
   "metadata": {},
   "outputs": [],
   "source": []
  },
  {
   "cell_type": "code",
   "execution_count": null,
   "metadata": {},
   "outputs": [],
   "source": []
  },
  {
   "cell_type": "code",
   "execution_count": null,
   "metadata": {},
   "outputs": [],
   "source": []
  },
  {
   "cell_type": "code",
   "execution_count": null,
   "metadata": {},
   "outputs": [],
   "source": []
  },
  {
   "cell_type": "code",
   "execution_count": null,
   "metadata": {},
   "outputs": [],
   "source": []
  },
  {
   "cell_type": "code",
   "execution_count": null,
   "metadata": {},
   "outputs": [],
   "source": []
  },
  {
   "cell_type": "code",
   "execution_count": null,
   "metadata": {},
   "outputs": [],
   "source": []
  },
  {
   "cell_type": "code",
   "execution_count": null,
   "metadata": {},
   "outputs": [],
   "source": []
  },
  {
   "cell_type": "code",
   "execution_count": null,
   "metadata": {},
   "outputs": [],
   "source": [
    "help(HuobiRestClient)"
   ]
  },
  {
   "cell_type": "code",
   "execution_count": null,
   "metadata": {},
   "outputs": [],
   "source": []
  },
  {
   "cell_type": "code",
   "execution_count": null,
   "metadata": {},
   "outputs": [],
   "source": []
  },
  {
   "cell_type": "code",
   "execution_count": null,
   "metadata": {},
   "outputs": [],
   "source": []
  },
  {
   "cell_type": "code",
   "execution_count": null,
   "metadata": {},
   "outputs": [],
   "source": []
  },
  {
   "cell_type": "code",
   "execution_count": null,
   "metadata": {},
   "outputs": [],
   "source": []
  },
  {
   "cell_type": "code",
   "execution_count": null,
   "metadata": {},
   "outputs": [],
   "source": []
  },
  {
   "cell_type": "code",
   "execution_count": null,
   "metadata": {},
   "outputs": [],
   "source": []
  },
  {
   "cell_type": "code",
   "execution_count": null,
   "metadata": {},
   "outputs": [],
   "source": []
  },
  {
   "cell_type": "code",
   "execution_count": null,
   "metadata": {},
   "outputs": [],
   "source": []
  },
  {
   "cell_type": "code",
   "execution_count": null,
   "metadata": {},
   "outputs": [],
   "source": []
  },
  {
   "cell_type": "code",
   "execution_count": null,
   "metadata": {},
   "outputs": [],
   "source": []
  },
  {
   "cell_type": "code",
   "execution_count": null,
   "metadata": {},
   "outputs": [],
   "source": []
  },
  {
   "cell_type": "code",
   "execution_count": null,
   "metadata": {},
   "outputs": [],
   "source": []
  },
  {
   "cell_type": "code",
   "execution_count": null,
   "metadata": {},
   "outputs": [],
   "source": []
  },
  {
   "cell_type": "code",
   "execution_count": null,
   "metadata": {},
   "outputs": [],
   "source": []
  },
  {
   "cell_type": "code",
   "execution_count": null,
   "metadata": {},
   "outputs": [],
   "source": []
  }
 ],
 "metadata": {
  "kernelspec": {
   "display_name": "Python 3",
   "language": "python",
   "name": "python3"
  },
  "language_info": {
   "codemirror_mode": {
    "name": "ipython",
    "version": 3
   },
   "file_extension": ".py",
   "mimetype": "text/x-python",
   "name": "python",
   "nbconvert_exporter": "python",
   "pygments_lexer": "ipython3",
   "version": "3.7.4"
  }
 },
 "nbformat": 4,
 "nbformat_minor": 4
}
